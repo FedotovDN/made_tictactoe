{
 "cells": [
  {
   "cell_type": "code",
   "execution_count": 118,
   "metadata": {},
   "outputs": [],
   "source": [
    "import numpy as np\n",
    "import random\n",
    "import copy\n",
    "import gym\n",
    "import pandas as pd\n",
    "import tqdm\n",
    "\n",
    "import matplotlib.pyplot as plt\n",
    "%matplotlib inline\n",
    "\n",
    "import torch\n",
    "import torch.nn as nn\n",
    "from torch.utils.data import Dataset"
   ]
  },
  {
   "cell_type": "code",
   "execution_count": 35,
   "metadata": {},
   "outputs": [
    {
     "data": {
      "text/plain": [
       "<torch._C.Generator at 0x1be2ba60150>"
      ]
     },
     "execution_count": 35,
     "metadata": {},
     "output_type": "execute_result"
    }
   ],
   "source": [
    "seed = 235\n",
    "random.seed(seed)\n",
    "np.random.seed(seed)\n",
    "torch.manual_seed(seed)"
   ]
  },
  {
   "cell_type": "markdown",
   "metadata": {},
   "source": [
    "### Environment TicTacToe из ноутбука 6-ой лекции"
   ]
  },
  {
   "cell_type": "code",
   "execution_count": 36,
   "metadata": {},
   "outputs": [],
   "source": [
    "N_ROWS, N_COLS, N_WIN = 3, 3, 3\n",
    "class TicTacToe(gym.Env):\n",
    "    def __init__(self, n_rows=N_ROWS, n_cols=N_COLS, n_win=N_WIN):\n",
    "        self.n_rows = n_rows\n",
    "        self.n_cols = n_cols\n",
    "        self.n_win = n_win\n",
    "\n",
    "        self.board = np.zeros((self.n_rows, self.n_cols), dtype=int)\n",
    "        self.gameOver = False\n",
    "        self.boardHash = None\n",
    "        # ход первого игрока\n",
    "        self.curTurn = 1\n",
    "        self.emptySpaces = None\n",
    "        \n",
    "        self.reset()\n",
    "\n",
    "    def getEmptySpaces(self):\n",
    "        if self.emptySpaces is None:\n",
    "            res = np.where(self.board == 0)\n",
    "            self.emptySpaces = np.array([ (i, j) for i, j in zip(res[0], res[1])])\n",
    "        return self.emptySpaces\n",
    "\n",
    "    def makeMove(self, player, i, j):\n",
    "        self.board[i, j] = player\n",
    "        self.emptySpaces = None\n",
    "        self.boardHash = None\n",
    "\n",
    "    def getHash(self):\n",
    "        if self.boardHash is None:\n",
    "            self.boardHash = ''.join(['%s' % (x+1) for x in self.board.reshape(self.n_rows * self.n_cols)])\n",
    "        return self.boardHash\n",
    "\n",
    "    def isTerminal(self):\n",
    "        # проверим, не закончилась ли игра\n",
    "        cur_marks, cur_p = np.where(self.board == self.curTurn), self.curTurn\n",
    "        for i,j in zip(cur_marks[0], cur_marks[1]):\n",
    "#             print((i,j))\n",
    "            win = False\n",
    "            if i <= self.n_rows - self.n_win:\n",
    "                if np.all(self.board[i:i+self.n_win, j] == cur_p):\n",
    "                    win = True\n",
    "            if not win:\n",
    "                if j <= self.n_cols - self.n_win:\n",
    "                    if np.all(self.board[i,j:j+self.n_win] == cur_p):\n",
    "                        win = True\n",
    "            if not win:\n",
    "                if i <= self.n_rows - self.n_win and j <= self.n_cols - self.n_win:\n",
    "                    if np.all(np.array([ self.board[i+k,j+k] == cur_p for k in range(self.n_win) ])):\n",
    "                        win = True\n",
    "            if not win:\n",
    "                if i <= self.n_rows - self.n_win and j >= self.n_win-1:\n",
    "                    if np.all(np.array([ self.board[i+k,j-k] == cur_p for k in range(self.n_win) ])):\n",
    "                        win = True\n",
    "            if win:\n",
    "                self.gameOver = True\n",
    "                return self.curTurn\n",
    "\n",
    "        if len(self.getEmptySpaces()) == 0:\n",
    "            self.gameOver = True\n",
    "            return 0\n",
    "\n",
    "        self.gameOver = False\n",
    "        return None\n",
    "\n",
    "    def printBoard(self):\n",
    "        for i in range(0, self.n_rows):\n",
    "            print('----'*(self.n_cols)+'-')\n",
    "            out = '| '\n",
    "            for j in range(0, self.n_cols):\n",
    "                if self.board[i, j] == 1:\n",
    "                    token = 'x'\n",
    "                if self.board[i, j] == -1:\n",
    "                    token = 'o'\n",
    "                if self.board[i, j] == 0:\n",
    "                    token = ' '\n",
    "                out += token + ' | '\n",
    "            print(out)\n",
    "        print('----'*(self.n_cols)+'-')\n",
    "\n",
    "    def getState(self):\n",
    "        return (self.getHash(), self.getEmptySpaces(), self.curTurn)\n",
    "\n",
    "    def action_from_int(self, action_int):\n",
    "        return ( int(action_int / self.n_cols), int(action_int % self.n_cols))\n",
    "\n",
    "    def int_from_action(self, action):\n",
    "        return action[0] * self.n_cols + action[1]\n",
    "    \n",
    "    def step(self, action):\n",
    "        if self.board[action[0], action[1]] != 0:\n",
    "            return self.getState(), -10, True, {}\n",
    "        self.makeMove(self.curTurn, action[0], action[1])\n",
    "        reward = self.isTerminal()\n",
    "        self.curTurn = -self.curTurn\n",
    "        return self.getState(), 0 if reward is None else reward, reward is not None, {}\n",
    "\n",
    "    def reset(self):\n",
    "        self.board = np.zeros((self.n_rows, self.n_cols), dtype=int)\n",
    "        self.boardHash = None\n",
    "        self.gameOver = False\n",
    "        self.emptySpaces = None\n",
    "        self.curTurn = 1\n",
    "        return self.getHash()"
   ]
  },
  {
   "cell_type": "code",
   "execution_count": 37,
   "metadata": {},
   "outputs": [],
   "source": [
    "def plot_board(env, pi, showtext=True, verbose=True, fontq=20, fontx=60):\n",
    "    '''Рисуем доску с оценками из стратегии pi'''\n",
    "    fig, ax = plt.subplots(1, 1, figsize=(8, 8))\n",
    "    X, Y = np.meshgrid(np.arange(0, env.n_rows), np.arange(0, env.n_rows))\n",
    "    Z = np.zeros((env.n_rows, env.n_cols)) + .01\n",
    "    s, actions = env.getHash(), env.getEmptySpaces()\n",
    "    if pi is not None and s in pi.Q:\n",
    "        for i, a in enumerate(actions):\n",
    "            Z[a[0], a[1]] = pi.Q[s, a]\n",
    "    ax.set_xticks([])\n",
    "    ax.set_yticks([])\n",
    "    surf = ax.imshow(Z, cmap=plt.get_cmap('Accent', 10), vmin=-1, vmax=1)\n",
    "    if showtext:\n",
    "        for i,a in enumerate(actions):\n",
    "            if pi is not None and s in pi.Q:\n",
    "                ax.text( a[1] , a[0] , \"%.3f\" % pi.Q[s][i], fontsize=fontq, horizontalalignment='center', verticalalignment='center', color=\"w\" )\n",
    "#             else:\n",
    "#                 ax.text( a[1] , a[0] , \"???\", fontsize=fontq, horizontalalignment='center', verticalalignment='center', color=\"w\" )\n",
    "    for i in range(env.n_rows):\n",
    "        for j in range(env.n_cols):\n",
    "            if env.board[i, j] == -1:\n",
    "                ax.text(j, i, \"O\", fontsize=fontx, horizontalalignment='center', verticalalignment='center', color=\"w\" )\n",
    "            if env.board[i, j] == 1:\n",
    "                ax.text(j, i, \"X\", fontsize=fontx, horizontalalignment='center', verticalalignment='center', color=\"w\" )\n",
    "    cbar = plt.colorbar(surf, ticks=[0, 1])\n",
    "    ax.grid(False)\n",
    "    plt.show()\n",
    "\n",
    "def get_and_print_move(env, pi, s, actions, random=False, verbose=True, fontq=20, fontx=60):\n",
    "    '''Делаем ход, рисуем доску'''\n",
    "    plot_board(env, pi, fontq=fontq, fontx=fontx)\n",
    "    if verbose and (pi is not None):\n",
    "        if (s, (0, 0)) in pi.Q:\n",
    "            for i,a in enumerate(actions):\n",
    "                print(i, a, pi.Q[s, a])\n",
    "        else:\n",
    "            print(\"Стратегия не знает, что делать...\")\n",
    "    if random:\n",
    "        return np.random.randint(len(actions))\n",
    "    else:\n",
    "        return pi.getActionGreedy(s, actions)"
   ]
  },
  {
   "cell_type": "code",
   "execution_count": 38,
   "metadata": {},
   "outputs": [],
   "source": [
    "def plot_test_game(env, pi1, pi2, random_crosses=False, random_naughts=True, verbose=True, fontq=20, fontx=60):\n",
    "    '''Играем тестовую партию между стратегиями или со случайными ходами, рисуем ход игры'''\n",
    "    done = False\n",
    "    env.reset()\n",
    "    while not done:\n",
    "        s, actions = env.getHash(), env.getEmptySpaces()\n",
    "        actions = [tuple(a) for a in actions]\n",
    "        if env.curTurn == 1:\n",
    "            a = get_and_print_move(env, pi1, s, actions, random=random_crosses, verbose=verbose, fontq=fontq, fontx=fontx)\n",
    "        else:\n",
    "            a = get_and_print_move(env, pi2, s, actions, random=random_naughts, verbose=verbose, fontq=fontq, fontx=fontx)\n",
    "        observation, reward, done, info = env.step(actions[a])\n",
    "        if reward == 1:\n",
    "            print(\"Крестики выиграли!\")\n",
    "            plot_board(env, None, showtext=False, fontq=fontq, fontx=fontx)\n",
    "        if reward == -1:\n",
    "            print(\"Нолики выиграли!\")\n",
    "            plot_board(env, None, showtext=False, fontq=fontq, fontx=fontx)"
   ]
  },
  {
   "cell_type": "markdown",
   "metadata": {},
   "source": [
    "### Часть первая: крестики-нолики при помощи Q-обучения"
   ]
  },
  {
   "cell_type": "markdown",
   "metadata": {},
   "source": [
    "### 3x3x3 Q-learning"
   ]
  },
  {
   "cell_type": "code",
   "execution_count": 39,
   "metadata": {},
   "outputs": [],
   "source": [
    "env_333 = TicTacToe(n_rows=3, n_cols=3, n_win=3)"
   ]
  },
  {
   "cell_type": "code",
   "execution_count": 40,
   "metadata": {},
   "outputs": [],
   "source": [
    "def inv_state(s):\n",
    "    return ''.join([str(2 - int(n)) for n in s])"
   ]
  },
  {
   "cell_type": "code",
   "execution_count": 41,
   "metadata": {},
   "outputs": [],
   "source": [
    "class randomAgent(object):\n",
    "    def __init__(self):\n",
    "        self.index_best_action = True\n",
    "        pass\n",
    "\n",
    "    def get_best_action(self, state, n_actions=None):\n",
    "        if n_actions is None:\n",
    "            n_actions = np.sum(np.array(list(state)) == '1')\n",
    "        return np.random.randint(n_actions)"
   ]
  },
  {
   "cell_type": "code",
   "execution_count": 42,
   "metadata": {},
   "outputs": [],
   "source": [
    "random_agent = randomAgent()"
   ]
  },
  {
   "cell_type": "code",
   "execution_count": 43,
   "metadata": {},
   "outputs": [],
   "source": [
    "def test_one_game(env, pi_crosses, pi_naughts):\n",
    "    done = False\n",
    "    env.reset()\n",
    "    while not done:\n",
    "        s, actions = env.getHash(), env.getEmptySpaces()\n",
    "        n_actions = len(actions)\n",
    "        if env.curTurn == 1:\n",
    "            if pi_crosses.index_best_action:\n",
    "                a = actions[pi_crosses.get_best_action(s, n_actions)]\n",
    "            else:\n",
    "                a = pi_crosses.get_best_action(s)\n",
    "        else:\n",
    "            if pi_naughts.index_best_action:\n",
    "                a = actions[pi_naughts.get_best_action(inv_state(s), n_actions)]\n",
    "            else:\n",
    "                a = pi_naughts.get_best_action(inv_state(s))\n",
    "        observation, reward, done, info = env.step(a)\n",
    "        if reward < -1:\n",
    "            print(\"Ход в занятую клетку\")\n",
    "    return reward"
   ]
  },
  {
   "cell_type": "code",
   "execution_count": 44,
   "metadata": {},
   "outputs": [],
   "source": [
    "def test_policy(env, pi_crosses, pi_naughts, num_games=1000):\n",
    "    crosses_wins = 0\n",
    "    naughts_wins = 0\n",
    "    for _ in range(num_games):\n",
    "        reward = test_one_game(env, pi_crosses, pi_naughts)\n",
    "        if reward == 1:\n",
    "            crosses_wins += 1\n",
    "        elif reward == -1:\n",
    "            naughts_wins += 1\n",
    "    return crosses_wins / num_games, naughts_wins / num_games"
   ]
  },
  {
   "cell_type": "code",
   "execution_count": 45,
   "metadata": {},
   "outputs": [],
   "source": [
    "class QLearningAgent:\n",
    "    def __init__(self, alpha, gamma):\n",
    "        self.index_best_action = True\n",
    "\n",
    "        self.Qvalues = {}\n",
    "        self.alpha = alpha\n",
    "        self.gamma = gamma\n",
    "        \n",
    "    def get_n_actions(self, state):\n",
    "        return np.sum(np.array(list(state)) == '1')        \n",
    "        \n",
    "    def get_Qs(self, state, n_actions=None):\n",
    "        if state not in self.Qvalues:\n",
    "            if n_actions is None:\n",
    "                n_actions = self.get_n_actions(state)\n",
    "            self.Qvalues[state] = np.random.random(n_actions) * 0.01 - 0.005\n",
    "        return self.Qvalues[state]\n",
    "\n",
    "    def get_V(self, state):\n",
    "        return np.max(self.get_Qs(state))\n",
    "\n",
    "    def update(self, state, n_action, reward, next_state):\n",
    "        Q = self.get_Qs(state)[n_action]\n",
    "        if next_state is None:\n",
    "            V = 0\n",
    "        else:\n",
    "            V = self.get_V(next_state)\n",
    "            \n",
    "        self.Qvalues[state][n_action] = Q + self.alpha * (reward + self.gamma * V - Q)\n",
    "\n",
    "    def get_best_action(self, state, n_actions=None):\n",
    "        return np.argmax(self.get_Qs(state, n_actions))\n",
    "\n",
    "    # epsilon-greedy action\n",
    "    def get_action(self, state, epsilon, n_actions=None):\n",
    "        if np.random.random() > epsilon:\n",
    "            return self.get_best_action(state, n_actions)\n",
    "        else:\n",
    "            if n_actions is None:\n",
    "                n_actions = self.get_n_actions(state)\n",
    "            return np.random.randint(n_actions)"
   ]
  },
  {
   "cell_type": "code",
   "execution_count": 46,
   "metadata": {},
   "outputs": [],
   "source": [
    "def QL_train(env, QL_agent, max_epsilon, t_max, perf_interval):\n",
    "    perf_crosses = []\n",
    "    perf_naughts = []\n",
    "    for t in range(t_max):\n",
    "        epsilon = max_epsilon * (t_max - t) / t_max\n",
    "\n",
    "        if t % perf_interval == 0:\n",
    "            p, _ = test_policy(env, QL_agent, random_agent)\n",
    "            perf_crosses.append((t, p))\n",
    "            _, p = test_policy(env, random_agent, QL_agent)\n",
    "            perf_naughts.append((t, p))\n",
    "            \n",
    "        done = False\n",
    "        env.reset()\n",
    "\n",
    "        state_0, actions_0 = env.getHash(), env.getEmptySpaces()\n",
    "        n_action_0 = QL_agent.get_action(state_0, epsilon, len(actions_0))\n",
    "        observation, reward, done, info = env.step(actions_0[n_action_0])\n",
    "        state_1, actions_1 = observation[0], observation[1]\n",
    "        curTurn = env.curTurn\n",
    "        state_1 = inv_state(state_1)\n",
    "        while not done:\n",
    "            n_action_1 = QL_agent.get_action(state_1, epsilon, len(actions_1))\n",
    "            observation, reward, done, info = env.step(actions_1[n_action_1])\n",
    "            if done: \n",
    "                QL_agent.update(state_0, n_action_0, -reward * curTurn, None)\n",
    "                QL_agent.update(state_1, n_action_1, reward * curTurn, None)\n",
    "                break\n",
    "\n",
    "            next_state = observation[0]\n",
    "            curTurn = env.curTurn\n",
    "            if curTurn == -1:\n",
    "                next_state = inv_state(next_state)\n",
    "                \n",
    "            QL_agent.update(state_0, n_action_0, reward, next_state)\n",
    "            state_0, actions_0 = state_1, actions_1\n",
    "            state_1, actions_1 = next_state, observation[1]\n",
    "            n_action_0 = n_action_1\n",
    "            \n",
    "    return perf_crosses, perf_naughts"
   ]
  },
  {
   "cell_type": "code",
   "execution_count": 47,
   "metadata": {},
   "outputs": [],
   "source": [
    "def plot_results(perf_crosses, perf_naughts):\n",
    "    steps = [x[0] for x in perf_crosses]\n",
    "    rewards_crosses = [x[1] for x in perf_crosses]\n",
    "    rewards_naughts = [x[1] for x in perf_naughts]\n",
    "    plt.plot(steps, rewards_crosses, label='крестики')\n",
    "    plt.plot(steps, rewards_naughts, label='нолики')\n",
    "    plt.grid()\n",
    "    plt.xlabel(\"Шаг обучения\")\n",
    "    plt.ylabel(\"Доля выигрышей\")\n",
    "    plt.title(\"Игры против RANDOM-policy\")\n",
    "    plt.legend()\n",
    "    plt.ylim(0, 1.1)"
   ]
  },
  {
   "cell_type": "code",
   "execution_count": 48,
   "metadata": {},
   "outputs": [],
   "source": [
    "max_epsilon = 0.7\n",
    "t_max = 100000\n",
    "perf_interval = t_max // 10\n",
    "alpha = 0.1\n",
    "gamma = 1.0\n",
    "QL_agent_333 = QLearningAgent(alpha, gamma)\n",
    "perf_crosses, perf_naughts = QL_train(env_333, QL_agent_333, max_epsilon, t_max, perf_interval)"
   ]
  },
  {
   "cell_type": "code",
   "execution_count": 49,
   "metadata": {},
   "outputs": [
    {
     "data": {
      "image/png": "[encoded data removed]",
      "text/plain": [
       "<Figure size 432x288 with 1 Axes>"
      ]
     },
     "metadata": {
      "needs_background": "light"
     },
     "output_type": "display_data"
    }
   ],
   "source": [
    "plot_results(perf_crosses, perf_naughts)"
   ]
  },
  {
   "cell_type": "code",
   "execution_count": 50,
   "metadata": {},
   "outputs": [
    {
     "name": "stdout",
     "output_type": "stream",
     "text": [
      "Крестики против RANDOM: (0.925, 0.005)\n",
      "Нолики против RANDOM: (0.003, 0.854)\n",
      "Крестики против Ноликов: (0.0, 0.0)\n"
     ]
    }
   ],
   "source": [
    "print(\"Крестики против RANDOM: \" + str(test_policy(env_333, QL_agent_333, random_agent)))\n",
    "print(\"Нолики против RANDOM: \" + str(test_policy(env_333, random_agent, QL_agent_333)))\n",
    "print(\"Крестики против Ноликов: \" + str(test_policy(env_333, QL_agent_333, QL_agent_333)))"
   ]
  },
  {
   "cell_type": "markdown",
   "metadata": {},
   "source": [
    "### 4x4x4 Q-learning"
   ]
  },
  {
   "cell_type": "code",
   "execution_count": 53,
   "metadata": {},
   "outputs": [],
   "source": [
    "env_444 = TicTacToe(n_rows=4, n_cols=4, n_win=4)"
   ]
  },
  {
   "cell_type": "code",
   "execution_count": 54,
   "metadata": {},
   "outputs": [],
   "source": [
    "max_epsilon = 0.7\n",
    "t_max = 1000000\n",
    "perf_interval = t_max // 10\n",
    "alpha = 0.1\n",
    "gamma = 1.\n",
    "QL_agent_444 = QLearningAgent(alpha, gamma)\n",
    "perf_crosses, perf_naughts = QL_train(env_444, QL_agent_444, max_epsilon, t_max, perf_interval)"
   ]
  },
  {
   "cell_type": "code",
   "execution_count": 55,
   "metadata": {},
   "outputs": [
    {
     "data": {
      "image/png": "[encoded data removed]",
      "text/plain": [
       "<Figure size 432x288 with 1 Axes>"
      ]
     },
     "metadata": {
      "needs_background": "light"
     },
     "output_type": "display_data"
    }
   ],
   "source": [
    "plot_results(perf_crosses, perf_naughts)"
   ]
  },
  {
   "cell_type": "code",
   "execution_count": 56,
   "metadata": {},
   "outputs": [
    {
     "name": "stdout",
     "output_type": "stream",
     "text": [
      "Крестики против RANDOM: (0.523, 0.148)\n",
      "Нолики против RANDOM: (0.254, 0.379)\n",
      "Крестики против Ноликов: (0.0, 0.0)\n"
     ]
    }
   ],
   "source": [
    "print(\"Крестики против RANDOM: \" + str(test_policy(env_444, QL_agent_444, random_agent)))\n",
    "print(\"Нолики против RANDOM: \" + str(test_policy(env_444, random_agent, QL_agent_444)))\n",
    "print(\"Крестики против Ноликов: \" + str(test_policy(env_444, QL_agent_444, QL_agent_444)))"
   ]
  },
  {
   "cell_type": "markdown",
   "metadata": {},
   "source": [
    "### Часть вторая: добавим нейронных сетей\n",
    "Реализуйте нейронную сеть для метода DQN на доске для крестиков-ноликов. Не буду ограничивать фантазию, но кажется, что свёртки 3х3 здесь должны неплохо работать (в том числе обобщаться на доски размера побольше).\n",
    "\n",
    "3.\tРеализуйте DQN с нейронной сетью, обучите стратегии крестиков и ноликов. Замечание: скорее всего, experience replay потребуется сразу же.\n",
    "4.\tРеализуйте Double DQN и/или Dueling DQN.\n"
   ]
  },
  {
   "cell_type": "code",
   "execution_count": 57,
   "metadata": {},
   "outputs": [],
   "source": [
    "class ReplayBufferSet(Dataset):\n",
    "    def __init__(self, length, environment):\n",
    "        self.len = length\n",
    "        self.env = environment\n",
    "        \n",
    "        self.store_index = 0\n",
    "        \n",
    "        self.s = np.zeros((length, 2, environment.n_rows, environment.n_cols))\n",
    "        self.a = np.zeros((length, 2))\n",
    "        self.r = np.zeros(length)\n",
    "        self.done = np.zeros(length)\n",
    "        self.next_s = np.zeros((length, 2, environment.n_rows, environment.n_cols))\n",
    "        \n",
    "        counter = 0\n",
    "        while counter < length:\n",
    "            self.env.reset()\n",
    "            state_0 = copy.deepcopy(self.env.board)\n",
    "            actions_0 = self.env.getEmptySpaces()\n",
    "            action_0 = random.choice(actions_0)\n",
    "            observation, reward, done, info = self.env.step(action_0)\n",
    "            curTurn = self.env.curTurn\n",
    "            state_1 = copy.deepcopy(self.env.board) * curTurn\n",
    "            actions_1 = observation[1]\n",
    "            while not done:\n",
    "                action_1 = random.choice(actions_1)\n",
    "                observation, reward, done, info = self.env.step(action_1)\n",
    "\n",
    "                curTurn = self.env.curTurn\n",
    "                next_state = copy.deepcopy(self.env.board) * curTurn\n",
    "                \n",
    "                if done: \n",
    "                    self.s[counter, 0, :, :] = state_0 == 1\n",
    "                    self.s[counter, 1, :, :] = state_0 == -1\n",
    "                    self.a[counter, :] = action_0\n",
    "                    self.r[counter] = reward * curTurn\n",
    "                    self.done[counter] = done\n",
    "                    self.next_s[counter, 0, :, :] = next_state == 1\n",
    "                    self.next_s[counter, 1, :, :] = next_state == -1\n",
    "                    counter += 1\n",
    "                    if counter >= length:\n",
    "                        break\n",
    "                    self.s[counter, 0, :, :] = state_1 == 1\n",
    "                    self.s[counter, 1, :, :] = state_1 == -1\n",
    "                    self.a[counter, :] = action_1\n",
    "                    self.r[counter] = -reward * curTurn\n",
    "                    self.done[counter] = done\n",
    "                    self.next_s[counter, 0, :, :] = next_state == 1\n",
    "                    self.next_s[counter, 1, :, :] = next_state == -1\n",
    "                    counter += 1\n",
    "                    break\n",
    "                else:\n",
    "                    self.s[counter, 0, :, :] = state_0 == 1\n",
    "                    self.s[counter, 1, :, :] = state_0 == -1\n",
    "                    self.a[counter, :] = action_0\n",
    "                    self.r[counter] = 0\n",
    "                    self.done[counter] = done\n",
    "                    self.next_s[counter, 0, :, :] = next_state == 1\n",
    "                    self.next_s[counter, 1, :, :] = next_state == -1\n",
    "                    counter += 1\n",
    "\n",
    "                if counter >= length:\n",
    "                    break\n",
    "\n",
    "                state_0, actions_0 = state_1, actions_1\n",
    "                state_1, actions_1 = next_state, observation[1]\n",
    "                action_0 = action_1    \n",
    "\n",
    "        self.s = torch.from_numpy(self.s).float()\n",
    "        self.next_s = torch.from_numpy(self.next_s).float()\n",
    "\n",
    "    def __getitem__(self, index):\n",
    "        a = self.a[index]\n",
    "        r = self.r[index]\n",
    "        done = self.done[index]\n",
    "\n",
    "        if type(index) == slice:\n",
    "            index = range(self.len)[index]\n",
    "        index = torch.from_numpy(np.array(index)).long()\n",
    "\n",
    "        s = torch.index_select(self.s, 0, index)\n",
    "        next_s = torch.index_select(self.next_s, 0, index)\n",
    "\n",
    "        return {'s': s, 'a': a, 'r': r, 'done': done, 'next_s': next_s}\n",
    "    \n",
    "    def __len__(self):\n",
    "        return self.len\n",
    "    \n",
    "    def store(self, s, a, r, done, next_s):\n",
    "        self.s[self.store_index, :, :, :] = s\n",
    "        self.a[self.store_index, :] = a\n",
    "        self.r[self.store_index] = r\n",
    "        self.done[self.store_index] = done\n",
    "        self.next_s[self.store_index, :, :, :] = next_s\n",
    "        self.store_index = (self.store_index + 1) % self.len"
   ]
  },
  {
   "cell_type": "code",
   "execution_count": 58,
   "metadata": {},
   "outputs": [],
   "source": [
    "replay_buffer_333 = ReplayBufferSet(10000, env_333)"
   ]
  },
  {
   "cell_type": "code",
   "execution_count": 59,
   "metadata": {},
   "outputs": [],
   "source": [
    "# трехслойная сверточная сеть\n",
    "class Conv3net(nn.Module):\n",
    "    def __init__(self, n_hid_channels=16):\n",
    "        super().__init__()\n",
    "        \n",
    "        self.conv_1 = nn.Conv2d(in_channels=2,\n",
    "                              out_channels=n_hid_channels,\n",
    "                              kernel_size=3,\n",
    "                              padding=1\n",
    "                              )\n",
    "        \n",
    "        self.activation_1 = nn.ReLU()\n",
    "        \n",
    "        self.conv_2 = nn.Conv2d(in_channels=n_hid_channels,\n",
    "                              out_channels=n_hid_channels,\n",
    "                              kernel_size=3,\n",
    "                              padding=1\n",
    "                              )\n",
    "\n",
    "        self.activation_2 = nn.ReLU()\n",
    "        \n",
    "        self.conv_3 = nn.Conv2d(in_channels=n_hid_channels,\n",
    "                              out_channels=1,\n",
    "                              kernel_size=3,\n",
    "                              padding=1\n",
    "                              )\n",
    "        \n",
    "        self.activation_3 = nn.Tanh()\n",
    "\n",
    "    def forward(self, x):\n",
    "        x = self.conv_1(x)\n",
    "        x = self.activation_1(x)\n",
    "        x = self.conv_2(x)\n",
    "        x = self.activation_2(x)\n",
    "        x = self.conv_3(x)\n",
    "        x = self.activation_3(x)\n",
    "        return x"
   ]
  },
  {
   "cell_type": "code",
   "execution_count": 60,
   "metadata": {},
   "outputs": [],
   "source": [
    "class DQNAgent(object):\n",
    "    def __init__(self, environment):\n",
    "        self.index_best_action = False\n",
    "        self.net = Conv3net()\n",
    "        self.env = environment\n",
    "        \n",
    "    def board2matrix(self, board):\n",
    "        crosses = torch.FloatTensor(board == 1)\n",
    "        naughts = torch.FloatTensor(board == -1)\n",
    "        actions = torch.FloatTensor(board == 0)\n",
    "        m = torch.stack((crosses, naughts))\n",
    "        return m, actions\n",
    "\n",
    "    # epsilon-greedy action\n",
    "    def get_action_from_board(self, board, epsilon):\n",
    "        if np.random.random() > epsilon:\n",
    "            m, actions = self.board2matrix(board)\n",
    "            r = torch.squeeze(self.net(torch.unsqueeze(m, 0)))\n",
    "            idx = torch.argmax(r - (1 - actions) * 100)\n",
    "            return self.env.action_from_int(idx)\n",
    "        else:\n",
    "            r, c = np.where(board == 0)\n",
    "            r_idx = np.random.randint(len(r))\n",
    "            return r[r_idx], c[r_idx]\n",
    "        \n",
    "    def get_best_action(self, s):\n",
    "        board = np.array([float(n) for n in s]).reshape(\n",
    "            (self.env.n_rows, self.env.n_cols))\n",
    "        m, actions = self.board2matrix(board - 1)\n",
    "        r = torch.squeeze(self.net(torch.unsqueeze(m, 0)))\n",
    "        idx = torch.argmax(r - (1 - actions) * 100)\n",
    "        return self.env.action_from_int(idx)"
   ]
  },
  {
   "cell_type": "code",
   "execution_count": 61,
   "metadata": {},
   "outputs": [],
   "source": [
    "DQN_agent_333 = DQNAgent(env_333)"
   ]
  },
  {
   "cell_type": "code",
   "execution_count": 62,
   "metadata": {},
   "outputs": [],
   "source": [
    "def DQN_train(agent, env, replay_buffer, n_games=1000, perf_interval=100, batch_size=1000):\n",
    "    perf_crosses = []\n",
    "    perf_naughts = []\n",
    "\n",
    "    max_epsilon = 0.1\n",
    "    gamma = 1.0\n",
    "    opt = torch.optim.Adam(agent.net.parameters())\n",
    "    loss_function = nn.MSELoss()\n",
    "    agent.net.eval()\n",
    "    for counter in range(n_games):\n",
    "        epsilon = max_epsilon * (n_games - counter) / n_games\n",
    "\n",
    "        env.reset()\n",
    "        state_0 = copy.deepcopy(env.board)\n",
    "        action_0 = agent.get_action_from_board(state_0, epsilon)\n",
    "        observation, reward, done, info = env.step(action_0)\n",
    "        curTurn = env.curTurn\n",
    "        state_1 = copy.deepcopy(env.board) * curTurn\n",
    "        while not done:\n",
    "            action_1 = agent.get_action_from_board(state_1, epsilon)\n",
    "            observation, reward, done, info = env.step(action_1)\n",
    "            curTurn = env.curTurn\n",
    "            next_state = copy.deepcopy(env.board) * curTurn\n",
    "\n",
    "            s, _ = agent.board2matrix(state_0)\n",
    "            next_s, _ = agent.board2matrix(next_state)\n",
    "            replay_buffer.store(s, action_0, reward * curTurn, done, next_s)\n",
    "            \n",
    "            if done: \n",
    "                s, _ = agent.board2matrix(state_1)\n",
    "                replay_buffer.store(s, action_1, -reward * curTurn, done, next_s)\n",
    "                break\n",
    "\n",
    "            state_0 = state_1\n",
    "            state_1 = next_state\n",
    "            action_0 = action_1\n",
    "            \n",
    "        batch = replay_buffer[random.sample(range(len(replay_buffer)), batch_size)]\n",
    "        next_actions = ((batch['next_s'][:, 0, :, :] != 1) & \n",
    "                        (batch['next_s'][:, 1, :, :] != 1)).long()\n",
    "        Q_next = torch.squeeze(agent.net(batch['next_s'])).detach()\n",
    "        V_next = torch.max((Q_next - (1 - next_actions) * 100).reshape(Q_next.shape[0], -1), dim = 1)[0]\n",
    "        y = batch['done'] * batch['r'] + (1 - batch['done']) * V_next.numpy() * gamma\n",
    "        \n",
    "        agent.net.train()\n",
    "        Q = torch.squeeze(agent.net(batch['s']))\n",
    "        a = torch.LongTensor(batch['a'])\n",
    "        y_hat = Q[torch.arange(batch_size), a[:,0], a[:,1]]\n",
    "        \n",
    "        opt.zero_grad()\n",
    "        loss = loss_function(y_hat, torch.tensor(y, dtype=torch.float32))\n",
    "        loss.backward()\n",
    "        opt.step()\n",
    "        agent.net.eval()\n",
    "        \n",
    "        if counter % perf_interval == 0:\n",
    "            p, _ = test_perf(env, agent, random_agent)\n",
    "            perf_crosses.append((counter, p))\n",
    "            _, p = test_perf(env, random_agent, agent)\n",
    "            perf_naughts.append((counter, p))\n",
    "\n",
    "    return perf_crosses, perf_naughts"
   ]
  },
  {
   "cell_type": "code",
   "execution_count": 63,
   "metadata": {},
   "outputs": [],
   "source": [
    "perf_crosses, perf_naughts = DQN_train(DQN_agent_333, env_333, replay_buffer_333)"
   ]
  },
  {
   "cell_type": "code",
   "execution_count": 64,
   "metadata": {},
   "outputs": [
    {
     "data": {
      "image/png": "[encoded data removed]",
      "text/plain": [
       "<Figure size 432x288 with 1 Axes>"
      ]
     },
     "metadata": {
      "needs_background": "light"
     },
     "output_type": "display_data"
    }
   ],
   "source": [
    "plot_results(perf_crosses, perf_naughts)"
   ]
  },
  {
   "cell_type": "code",
   "execution_count": 65,
   "metadata": {},
   "outputs": [
    {
     "name": "stdout",
     "output_type": "stream",
     "text": [
      "Крестики против RANDOM: (0.988, 0.004)\n",
      "Нолики против RANDOM: (0.124, 0.793)\n",
      "Крестики против Ноликов: (0.0, 1.0)\n"
     ]
    }
   ],
   "source": [
    "print(\"Крестики против RANDOM: \" + str(test_policy(env_333, DQN_agent_333, random_agent)))\n",
    "print(\"Нолики против RANDOM: \" + str(test_policy(env_333, random_agent, DQN_agent_333)))\n",
    "print(\"Крестики против Ноликов: \" + str(test_policy(env_333, DQN_agent_333, DQN_agent_333)))"
   ]
  },
  {
   "cell_type": "markdown",
   "metadata": {},
   "source": [
    "### DQN 4x4x4"
   ]
  },
  {
   "cell_type": "code",
   "execution_count": 66,
   "metadata": {},
   "outputs": [],
   "source": [
    "replay_buffer_444 = ReplayBufferSet(10000, env_444)\n",
    "DQN_agent_444 = DQNAgent(env_444)\n",
    "perf_crosses, perf_naughts = DQN_train(DQN_agent_444, env_444, replay_buffer_444)"
   ]
  },
  {
   "cell_type": "code",
   "execution_count": 67,
   "metadata": {},
   "outputs": [
    {
     "data": {
      "image/png": "[encoded data removed]",
      "text/plain": [
       "<Figure size 432x288 with 1 Axes>"
      ]
     },
     "metadata": {
      "needs_background": "light"
     },
     "output_type": "display_data"
    }
   ],
   "source": [
    "plot_results(perf_crosses, perf_naughts)"
   ]
  },
  {
   "cell_type": "code",
   "execution_count": 68,
   "metadata": {},
   "outputs": [
    {
     "name": "stdout",
     "output_type": "stream",
     "text": [
      "Крестики против RANDOM: (0.862, 0.025)\n",
      "Нолики против RANDOM: (0.076, 0.714)\n",
      "Крестики против Ноликов: (1.0, 0.0)\n"
     ]
    }
   ],
   "source": [
    "print(\"Крестики против RANDOM: \" + str(test_policy(env_444, DQN_agent_444, random_agent)))\n",
    "print(\"Нолики против RANDOM: \" + str(test_policy(env_444, random_agent, DQN_agent_444)))\n",
    "print(\"Крестики против Ноликов: \" + str(test_policy(env_444, DQN_agent_444, DQN_agent_444)))"
   ]
  },
  {
   "cell_type": "markdown",
   "metadata": {},
   "source": [
    "### DQN 5x5x5"
   ]
  },
  {
   "cell_type": "code",
   "execution_count": 69,
   "metadata": {},
   "outputs": [],
   "source": [
    "env_555 = TicTacToe(5, 5, 5)\n",
    "replay_buffer_555 = ReplayBufferSet(10000, env_555)\n",
    "DQN_agent_555 = DQNAgent(env_555)\n",
    "perf_crosses, perf_naughts = DQN_train(DQN_agent_555, env_555, replay_buffer_555, n_games=10000, perf_interval=1000)"
   ]
  },
  {
   "cell_type": "code",
   "execution_count": 70,
   "metadata": {},
   "outputs": [
    {
     "data": {
      "image/png": "[encoded data removed]",
      "text/plain": [
       "<Figure size 432x288 with 1 Axes>"
      ]
     },
     "metadata": {
      "needs_background": "light"
     },
     "output_type": "display_data"
    }
   ],
   "source": [
    "plot_results(perf_crosses, perf_naughts)"
   ]
  },
  {
   "cell_type": "code",
   "execution_count": 71,
   "metadata": {},
   "outputs": [
    {
     "name": "stdout",
     "output_type": "stream",
     "text": [
      "Крестики против RANDOM: (0.674, 0.028)\n",
      "Нолики против RANDOM: (0.065, 0.557)\n",
      "Крестики против Ноликов: (0.0, 1.0)\n"
     ]
    }
   ],
   "source": [
    "print(\"Крестики против RANDOM: \" + str(test_policy(env_555, DQN_agent_555, random_agent)))\n",
    "print(\"Нолики против RANDOM: \" + str(test_policy(env_555, random_agent, DQN_agent_555)))\n",
    "print(\"Крестики против Ноликов: \" + str(test_policy(env_555, DQN_agent_555, DQN_agent_555)))"
   ]
  },
  {
   "cell_type": "markdown",
   "metadata": {},
   "source": [
    "### Double DQN"
   ]
  },
  {
   "cell_type": "code",
   "execution_count": 72,
   "metadata": {},
   "outputs": [],
   "source": [
    "class DoubleQNAgent(object):\n",
    "    def __init__(self, environment):\n",
    "        self.index_best_action = False\n",
    "        self.net_a = Conv3net()\n",
    "        self.net_b = Conv3net()\n",
    "        self.env = environment\n",
    "        \n",
    "    def board2matrix(self, board):\n",
    "        crosses = torch.FloatTensor(board == 1)\n",
    "        naughts = torch.FloatTensor(board == -1)\n",
    "        actions = torch.FloatTensor(board == 0)\n",
    "        m = torch.stack((crosses, naughts))\n",
    "        return m, actions\n",
    "\n",
    "    # epsilon-greedy action\n",
    "    def get_action_from_board(self, board, epsilon, update=0):\n",
    "        if np.random.random() > epsilon:\n",
    "            m, actions = self.board2matrix(board)\n",
    "            if update == 1:\n",
    "                r = torch.squeeze(self.net_a(torch.unsqueeze(m, 0)))\n",
    "            elif update == -1:\n",
    "                r = torch.squeeze(self.net_b(torch.unsqueeze(m, 0)))\n",
    "            else:\n",
    "                r = (torch.squeeze(self.net_a(torch.unsqueeze(m, 0))) + torch.squeeze(self.net_b(torch.unsqueeze(m, 0)))) / 2.\n",
    "            idx = torch.argmax(r - (1 - actions) * 100)\n",
    "            return self.env.action_from_int(idx)\n",
    "        else:\n",
    "            r, c = np.where(board == 0)\n",
    "            r_idx = np.random.randint(len(r))\n",
    "            return r[r_idx], c[r_idx]\n",
    "        \n",
    "    def get_best_action(self, s):\n",
    "        board = np.array([float(n) for n in s]).reshape(\n",
    "            (self.env.n_rows, self.env.n_cols))\n",
    "        m, actions = self.board2matrix(board - 1)\n",
    "        r = (torch.squeeze(self.net_a(torch.unsqueeze(m, 0))) + torch.squeeze(self.net_b(torch.unsqueeze(m, 0)))) / 2.\n",
    "        idx = torch.argmax(r - (1 - actions) * 100)\n",
    "        return self.env.action_from_int(idx)"
   ]
  },
  {
   "cell_type": "code",
   "execution_count": 73,
   "metadata": {},
   "outputs": [],
   "source": [
    "double_agent_333 = DoubleQNAgent(env_333)"
   ]
  },
  {
   "cell_type": "code",
   "execution_count": 74,
   "metadata": {},
   "outputs": [],
   "source": [
    "def double_QN_train(agent, env, replay_buffer, n_games=1000, perf_interval=100, batch_size=100):\n",
    "    perf_crosses = []\n",
    "    perf_naughts = []\n",
    "\n",
    "    max_epsilon = 0.1\n",
    "    gamma = 1.0\n",
    "    opt_a = torch.optim.Adam(agent.net_a.parameters())\n",
    "    opt_b = torch.optim.Adam(agent.net_b.parameters())\n",
    "    loss_function = nn.MSELoss()\n",
    "    agent.net_a.eval()\n",
    "    agent.net_b.eval()\n",
    "    for counter in range(n_games):\n",
    "        epsilon = max_epsilon * (n_games - counter) / n_games\n",
    "\n",
    "        env.reset()\n",
    "        state_0 = copy.deepcopy(env.board)\n",
    "        action_0 = agent.get_action_from_board(state_0, epsilon)\n",
    "        observation, reward, done, info = env.step(action_0)\n",
    "        curTurn = env.curTurn\n",
    "        state_1 = copy.deepcopy(env.board) * curTurn\n",
    "        while not done:\n",
    "            action_1 = agent.get_action_from_board(state_1, epsilon)\n",
    "            observation, reward, done, info = env.step(action_1)\n",
    "            curTurn = env.curTurn\n",
    "            next_state = copy.deepcopy(env.board) * curTurn\n",
    "\n",
    "            s, _ = agent.board2matrix(state_0)\n",
    "            next_s, _ = agent.board2matrix(next_state)\n",
    "            replay_buffer.store(s, action_0, reward * curTurn, done, next_s)\n",
    "            \n",
    "            if done: \n",
    "                s, _ = agent.board2matrix(state_1)\n",
    "                replay_buffer.store(s, action_1, -reward * curTurn, done, next_s)\n",
    "                break\n",
    "\n",
    "            state_0 = state_1\n",
    "            state_1 = next_state\n",
    "            action_0 = action_1\n",
    "            \n",
    "        batch = replay_buffer[random.sample(range(len(replay_buffer)), batch_size)]\n",
    "        next_actions = ((batch['next_s'][:, 0, :, :] != 1) & \n",
    "                        (batch['next_s'][:, 1, :, :] != 1)).long()\n",
    "\n",
    "        if np.random.random() > 0.5:\n",
    "            Q_next = torch.squeeze(agent.net_b(batch['next_s'])).detach()\n",
    "            V_next = torch.max((Q_next - (1 - next_actions) * 100).reshape(\n",
    "                Q_next.shape[0], -1), dim = 1)[0]\n",
    "            y = batch['done'] * batch['r'] +\\\n",
    "                (1 - batch['done']) * V_next.numpy() * gamma\n",
    "\n",
    "            agent.net_a.train()\n",
    "            Q = torch.squeeze(agent.net_a(batch['s']))\n",
    "            a = torch.LongTensor(batch['a'])\n",
    "            y_hat = Q[torch.arange(batch_size), a[:,0], a[:,1]]\n",
    "            opt_a.zero_grad()\n",
    "            loss = loss_function(y_hat, torch.tensor(y, dtype=torch.float32))\n",
    "            loss.backward()\n",
    "            opt_a.step()\n",
    "            agent.net_a.eval()\n",
    "        else:\n",
    "            Q_next = torch.squeeze(agent.net_a(batch['next_s'])).detach()\n",
    "            V_next = torch.max((Q_next - (1 - next_actions) * 100).reshape(\n",
    "                Q_next.shape[0], -1), dim = 1)[0]\n",
    "            y = batch['done'] * batch['r'] +\\\n",
    "                (1 - batch['done']) * V_next.numpy() * gamma\n",
    "            agent.net_b.train()\n",
    "            Q = torch.squeeze(agent.net_b(batch['s']))\n",
    "            a = torch.LongTensor(batch['a'])\n",
    "            y_hat = Q[torch.arange(batch_size), a[:,0], a[:,1]]\n",
    "            opt_b.zero_grad()\n",
    "            loss = loss_function(y_hat, torch.tensor(y, dtype=torch.float32))\n",
    "            loss.backward()\n",
    "            opt_b.step()\n",
    "            agent.net_b.eval()\n",
    "\n",
    "        if counter % perf_interval == 0:\n",
    "            p, _ = test_perf(env, agent, random_agent)\n",
    "            perf_crosses.append((counter, p))\n",
    "            _, p = test_perf(env, random_agent, agent)\n",
    "            perf_naughts.append((counter, p))\n",
    "\n",
    "    return perf_crosses, perf_naughts"
   ]
  },
  {
   "cell_type": "code",
   "execution_count": 75,
   "metadata": {},
   "outputs": [],
   "source": [
    "replay_buffer_333 = ReplayBufferSet(10000, env_333)\n",
    "perf_crosses, perf_naughts = double_QN_train(double_agent_333, env_333, replay_buffer_333)"
   ]
  },
  {
   "cell_type": "code",
   "execution_count": 76,
   "metadata": {},
   "outputs": [
    {
     "data": {
      "image/png": "[encoded data removed]",
      "text/plain": [
       "<Figure size 432x288 with 1 Axes>"
      ]
     },
     "metadata": {
      "needs_background": "light"
     },
     "output_type": "display_data"
    }
   ],
   "source": [
    "plot_results(perf_crosses, perf_naughts)"
   ]
  },
  {
   "cell_type": "code",
   "execution_count": 77,
   "metadata": {},
   "outputs": [
    {
     "name": "stdout",
     "output_type": "stream",
     "text": [
      "Крестики против RANDOM: (0.937, 0.022)\n",
      "Нолики против RANDOM: (0.201, 0.734)\n",
      "Крестики против Ноликов: (1.0, 0.0)\n"
     ]
    }
   ],
   "source": [
    "print(\"Крестики против RANDOM: \" + str(test_policy(env_333, double_agent_333, random_agent)))\n",
    "print(\"Нолики против RANDOM: \" + str(test_policy(env_333, random_agent, double_agent_333)))\n",
    "print(\"Крестики против Ноликов: \" + str(test_policy(env_333, double_agent_333, double_agent_333)))"
   ]
  },
  {
   "cell_type": "markdown",
   "metadata": {},
   "source": [
    "### Double DQN 4x4x4"
   ]
  },
  {
   "cell_type": "code",
   "execution_count": 78,
   "metadata": {},
   "outputs": [],
   "source": [
    "replay_buffer_444 = ReplayBufferSet(10000, env_444)\n",
    "double_agent_444 = DoubleQNAgent(env_444)\n",
    "perf_crosses, perf_naughts = double_QN_train(double_agent_444, env_444, replay_buffer_444)"
   ]
  },
  {
   "cell_type": "code",
   "execution_count": 79,
   "metadata": {},
   "outputs": [
    {
     "data": {
      "image/png": "[encoded data removed]",
      "text/plain": [
       "<Figure size 432x288 with 1 Axes>"
      ]
     },
     "metadata": {
      "needs_background": "light"
     },
     "output_type": "display_data"
    }
   ],
   "source": [
    "plot_results(perf_crosses, perf_naughts)"
   ]
  },
  {
   "cell_type": "code",
   "execution_count": 81,
   "metadata": {},
   "outputs": [
    {
     "name": "stdout",
     "output_type": "stream",
     "text": [
      "Крестики против RANDOM: (0.834, 0.068)\n",
      "Нолики против RANDOM: (0.137, 0.703)\n",
      "Крестики против Ноликов: (0.0, 1.0)\n"
     ]
    }
   ],
   "source": [
    "print(\"Крестики против RANDOM: \" + str(test_policy(env_444, double_agent_444, random_agent)))\n",
    "print(\"Нолики против RANDOM: \" + str(test_policy(env_444, random_agent, double_agent_444)))\n",
    "print(\"Крестики против Ноликов: \" + str(test_policy(env_444, double_agent_444, double_agent_444)))"
   ]
  },
  {
   "cell_type": "markdown",
   "metadata": {},
   "source": [
    "### Double DQN 5x5x5"
   ]
  },
  {
   "cell_type": "code",
   "execution_count": 82,
   "metadata": {},
   "outputs": [],
   "source": [
    "replay_buffer_555 = ReplayBufferSet(10000, env_555)\n",
    "double_agent_555 = DoubleQNAgent(env_555)\n",
    "perf_crosses, perf_naughts = double_QN_train(double_agent_555, env_555, replay_buffer_555, n_games=10000, perf_interval=1000)"
   ]
  },
  {
   "cell_type": "code",
   "execution_count": 83,
   "metadata": {},
   "outputs": [
    {
     "data": {
      "image/png": "[encoded data removed]",
      "text/plain": [
       "<Figure size 432x288 with 1 Axes>"
      ]
     },
     "metadata": {
      "needs_background": "light"
     },
     "output_type": "display_data"
    }
   ],
   "source": [
    "plot_results(perf_crosses, perf_naughts)"
   ]
  },
  {
   "cell_type": "code",
   "execution_count": 84,
   "metadata": {},
   "outputs": [
    {
     "name": "stdout",
     "output_type": "stream",
     "text": [
      "Крестики против RANDOM: (0.829, 0.023)\n",
      "Нолики против RANDOM: (0.048, 0.7)\n",
      "Крестики против Ноликов: (1.0, 0.0)\n"
     ]
    }
   ],
   "source": [
    "print(\"Крестики против RANDOM: \" + str(test_policy(env_555, double_agent_555, random_agent)))\n",
    "print(\"Нолики против RANDOM: \" + str(test_policy(env_555, random_agent, double_agent_555)))\n",
    "print(\"Крестики против Ноликов: \" + str(test_policy(env_555, double_agent_555, double_agent_555)))"
   ]
  },
  {
   "cell_type": "markdown",
   "metadata": {},
   "source": [
    "### Часть третья: расширим и углубим поиск\n",
    "Крестики-нолики -- это, конечно, далеко не го, и обычный альфа-бета поиск с отсечением здесь наверняка может работать идеально вплоть до довольно больших досок. Однако мы всё-таки для этого учебного задания будем реализовывать более практически релевантный метод MCTS -- заодно фактически получится и упражнение на многоруких бандитов.\n",
    "\n",
    "5.\tРеализуйте rollouts со случайной стратегией и (опционально) rollouts с неслучайной, но простой стратегией (например, основанной на дополнении нескольких паттернов или на Q-функции, которая у вас получилась в первом пункте).\n",
    "6.\tРеализуйте MCTS-поиск с этими rollouts для крестиков-ноликов на досках разного размера, сравните полученные стратегии между собой и со стратегиями, обученными в первых двух частях.\n"
   ]
  },
  {
   "cell_type": "code",
   "execution_count": 85,
   "metadata": {},
   "outputs": [],
   "source": [
    "class MCTSTreeNode(object):\n",
    "\n",
    "    def __init__(self, env, board, parent=None):\n",
    "        self.state_env = TicTacToe(env.n_rows, env.n_cols, env.n_win)\n",
    "        self.state_env.board = copy.deepcopy(board)\n",
    "        self.state_env.isTerminal()\n",
    "        self.parent = parent\n",
    "        self.children = []\n",
    "        self.n = 0\n",
    "        self.q = 0\n",
    "        self.actions = list(self.state_env.getEmptySpaces())\n",
    "\n",
    "    def best_child(self, c_param=1):\n",
    "        choices_weights = [\n",
    "            (-c.q / c.n) + c_param * np.sqrt((2 * np.log(self.n) / c.n))\n",
    "            for c in self.children\n",
    "        ]\n",
    "        return np.argmax(choices_weights)\n",
    "\n",
    "    def expand(self):\n",
    "        action = self.actions.pop(0)\n",
    "        next_board = copy.deepcopy(self.state_env.board)\n",
    "        next_board[action[0], action[1]] = self.state_env.curTurn\n",
    "        child_node = MCTSTreeNode(self.state_env, next_board, parent=self)\n",
    "        child_node.state_env.curTurn = -self.state_env.curTurn\n",
    "        self.children.append(child_node)\n",
    "        return child_node\n",
    "\n",
    "    def rollout(self):\n",
    "        rollout_env = TicTacToe(self.state_env.n_rows, self.state_env.n_cols, self.state_env.n_win)\n",
    "        rollout_env.board = copy.deepcopy(self.state_env.board)\n",
    "        rollout_env.curTurn = self.state_env.curTurn\n",
    "        reward = rollout_env.isTerminal()\n",
    "        done = rollout_env.gameOver\n",
    "        random_actions = list(np.random.permutation(rollout_env.getEmptySpaces()))\n",
    "        while not done:\n",
    "            action = random_actions.pop()\n",
    "            observation, reward, done, info = rollout_env.step(action)\n",
    "        return reward * self.state_env.curTurn\n",
    "\n",
    "    def backprop(self, result):\n",
    "        self.n += 1.\n",
    "        self.q += result\n",
    "        if self.parent:\n",
    "            self.parent.backprop(-result)"
   ]
  },
  {
   "cell_type": "code",
   "execution_count": 86,
   "metadata": {},
   "outputs": [],
   "source": [
    "class MCTSAgent(object):\n",
    "    def __init__(self, environment, n_simulations):\n",
    "        self.index_best_action = True\n",
    "        self.env = environment\n",
    "        self.n_simulations = n_simulations\n",
    "        \n",
    "    def get_best_action(self, s, n_actions):\n",
    "        board = np.array([float(n) for n in s]).reshape(\n",
    "            (self.env.n_rows, self.env.n_cols)) - 1\n",
    "        \n",
    "        tree_root = MCTSTreeNode(self.env, board)\n",
    " \n",
    "        for _ in range(self.n_simulations):            \n",
    "            v = tree_root\n",
    "            while not v.state_env.gameOver:\n",
    "                if len(v.actions) > 0:\n",
    "                    v = v.expand()\n",
    "                else:\n",
    "                    v = v.children[v.best_child()]\n",
    "            reward = v.rollout()\n",
    "            v.backprop(reward)\n",
    "        return tree_root.best_child(c_param=0)"
   ]
  },
  {
   "cell_type": "markdown",
   "metadata": {},
   "source": [
    "### Доска 3x3x3"
   ]
  },
  {
   "cell_type": "code",
   "execution_count": 87,
   "metadata": {},
   "outputs": [],
   "source": [
    "MCTS_agent_333 = MCTSAgent(env_333, n_simulations=100)"
   ]
  },
  {
   "cell_type": "code",
   "execution_count": 88,
   "metadata": {},
   "outputs": [
    {
     "name": "stdout",
     "output_type": "stream",
     "text": [
      "Крестики против RANDOM: (0.968, 0.0)\n",
      "Нолики против RANDOM: (0.382, 0.539)\n",
      "Крестики против Ноликов: (1.0, 0.0)\n"
     ]
    }
   ],
   "source": [
    "print(\"Крестики против RANDOM: \" + str(test_policy(env_333, MCTS_agent_333, random_agent)))\n",
    "print(\"Нолики против RANDOM: \" + str(test_policy(env_333, random_agent, MCTS_agent_333)))\n",
    "print(\"Крестики против Ноликов: \" + str(test_policy(env_333, MCTS_agent_333, MCTS_agent_333)))"
   ]
  },
  {
   "cell_type": "markdown",
   "metadata": {},
   "source": [
    "### Доска 4x4x4"
   ]
  },
  {
   "cell_type": "code",
   "execution_count": 89,
   "metadata": {},
   "outputs": [],
   "source": [
    "MCTS_agent_444 = MCTSAgent(env_444, n_simulations=100)"
   ]
  },
  {
   "cell_type": "code",
   "execution_count": 90,
   "metadata": {},
   "outputs": [
    {
     "name": "stdout",
     "output_type": "stream",
     "text": [
      "Крестики против RANDOM: (0.896, 0.033)\n",
      "Нолики против RANDOM: (0.007, 0.803)\n",
      "Крестики против Ноликов: (0.066, 0.736)\n"
     ]
    }
   ],
   "source": [
    "print(\"Крестики против RANDOM: \" + str(test_policy(env_444, MCTS_agent_444, random_agent)))\n",
    "print(\"Нолики против RANDOM: \" + str(test_policy(env_444, random_agent, MCTS_agent_444)))\n",
    "print(\"Крестики против Ноликов: \" + str(test_policy(env_444, MCTS_agent_444, MCTS_agent_444)))"
   ]
  },
  {
   "cell_type": "markdown",
   "metadata": {},
   "source": [
    "### Доска 5x5x5"
   ]
  },
  {
   "cell_type": "code",
   "execution_count": 91,
   "metadata": {},
   "outputs": [],
   "source": [
    "MCTS_agent_555 = MCTSAgent(env_555, n_simulations=100)"
   ]
  },
  {
   "cell_type": "code",
   "execution_count": 92,
   "metadata": {},
   "outputs": [
    {
     "name": "stdout",
     "output_type": "stream",
     "text": [
      "Крестики против RANDOM: (0.913, 0.002)\n",
      "Нолики против RANDOM: (0.046, 0.859)\n",
      "Крестики против Ноликов: (1.0, 0.0)\n"
     ]
    }
   ],
   "source": [
    "print(\"Крестики против RANDOM: \" + str(test_policy(env_555, MCTS_agent_555, random_agent)))\n",
    "print(\"Нолики против RANDOM: \" + str(test_policy(env_555, random_agent, MCTS_agent_555)))\n",
    "print(\"Крестики против Ноликов: \" + str(test_policy(env_555, MCTS_agent_555, MCTS_agent_555)))"
   ]
  },
  {
   "cell_type": "markdown",
   "metadata": {},
   "source": [
    "#### Сравнение агентов 3x3"
   ]
  },
  {
   "cell_type": "code",
   "execution_count": 122,
   "metadata": {},
   "outputs": [],
   "source": [
    "policy = [random_agent, QL_agent_333, DQN_agent_333, double_agent_333, MCTS_agent_333]"
   ]
  },
  {
   "cell_type": "code",
   "execution_count": null,
   "metadata": {},
   "outputs": [],
   "source": [
    "res = np.full((5, 5), '                        ')\n",
    "for policy1 in range(5):\n",
    "    for policy2 in range(5):\n",
    "        r = test_policy(env_333, policy[policy1], policy[policy2])\n",
    "        #print(str(r))\n",
    "        res[policy1, policy2] = str(r)"
   ]
  },
  {
   "cell_type": "code",
   "execution_count": 126,
   "metadata": {},
   "outputs": [
    {
     "data": {
      "text/html": [
       "<div>\n",
       "<style scoped>\n",
       "    .dataframe tbody tr th:only-of-type {\n",
       "        vertical-align: middle;\n",
       "    }\n",
       "\n",
       "    .dataframe tbody tr th {\n",
       "        vertical-align: top;\n",
       "    }\n",
       "\n",
       "    .dataframe thead th {\n",
       "        text-align: right;\n",
       "    }\n",
       "</style>\n",
       "<table border=\"1\" class=\"dataframe\">\n",
       "  <thead>\n",
       "    <tr style=\"text-align: right;\">\n",
       "      <th></th>\n",
       "      <th>random</th>\n",
       "      <th>Q</th>\n",
       "      <th>DQN</th>\n",
       "      <th>Double</th>\n",
       "      <th>MCTS</th>\n",
       "    </tr>\n",
       "  </thead>\n",
       "  <tbody>\n",
       "    <tr>\n",
       "      <th>random</th>\n",
       "      <td>(0.56, 0.304)</td>\n",
       "      <td>(0.0, 0.871)</td>\n",
       "      <td>(0.13, 0.784)</td>\n",
       "      <td>(0.213, 0.719)</td>\n",
       "      <td>(0.378, 0.548)</td>\n",
       "    </tr>\n",
       "    <tr>\n",
       "      <th>Q</th>\n",
       "      <td>(0.94, 0.007)</td>\n",
       "      <td>(0.0, 0.0)</td>\n",
       "      <td>(1.0, 0.0)</td>\n",
       "      <td>(0.0, 1.0)</td>\n",
       "      <td>(1.0, 0.0)</td>\n",
       "    </tr>\n",
       "    <tr>\n",
       "      <th>DQN</th>\n",
       "      <td>(0.984, 0.001)</td>\n",
       "      <td>(0.0, 0.0)</td>\n",
       "      <td>(0.0, 1.0)</td>\n",
       "      <td>(1.0, 0.0)</td>\n",
       "      <td>(1.0, 0.0)</td>\n",
       "    </tr>\n",
       "    <tr>\n",
       "      <th>Double</th>\n",
       "      <td>(0.963, 0.011)</td>\n",
       "      <td>(0.0, 0.0)</td>\n",
       "      <td>(0.0, 1.0)</td>\n",
       "      <td>(1.0, 0.0)</td>\n",
       "      <td>(1.0, 0.0)</td>\n",
       "    </tr>\n",
       "    <tr>\n",
       "      <th>MCTS</th>\n",
       "      <td>(0.974, 0.0)</td>\n",
       "      <td>(0.0, 0.001)</td>\n",
       "      <td>(0.454, 0.0)</td>\n",
       "      <td>(0.956, 0.001)</td>\n",
       "      <td>(1.0, 0.0)</td>\n",
       "    </tr>\n",
       "  </tbody>\n",
       "</table>\n",
       "</div>"
      ],
      "text/plain": [
       "                random             Q            DQN          Double  \\\n",
       "random   (0.56, 0.304)  (0.0, 0.871)  (0.13, 0.784)  (0.213, 0.719)   \n",
       "Q        (0.94, 0.007)    (0.0, 0.0)     (1.0, 0.0)      (0.0, 1.0)   \n",
       "DQN     (0.984, 0.001)    (0.0, 0.0)     (0.0, 1.0)      (1.0, 0.0)   \n",
       "Double  (0.963, 0.011)    (0.0, 0.0)     (0.0, 1.0)      (1.0, 0.0)   \n",
       "MCTS      (0.974, 0.0)  (0.0, 0.001)   (0.454, 0.0)  (0.956, 0.001)   \n",
       "\n",
       "                  MCTS  \n",
       "random  (0.378, 0.548)  \n",
       "Q           (1.0, 0.0)  \n",
       "DQN         (1.0, 0.0)  \n",
       "Double      (1.0, 0.0)  \n",
       "MCTS        (1.0, 0.0)  "
      ]
     },
     "execution_count": 126,
     "metadata": {},
     "output_type": "execute_result"
    }
   ],
   "source": [
    "pd.DataFrame(res, columns=['random', 'Q', 'DQN', 'Double', 'MCTS'], index=['random', 'Q', 'DQN', 'Double', 'MCTS'])"
   ]
  },
  {
   "cell_type": "markdown",
   "metadata": {},
   "source": [
    "#### Сравнение агентов 4x4"
   ]
  },
  {
   "cell_type": "code",
   "execution_count": 127,
   "metadata": {},
   "outputs": [],
   "source": [
    "policy = [random_agent, QL_agent_444, DQN_agent_444, double_agent_444, MCTS_agent_444]"
   ]
  },
  {
   "cell_type": "code",
   "execution_count": 128,
   "metadata": {},
   "outputs": [],
   "source": [
    "res = np.full((5, 5), '                        ')\n",
    "for policy1 in range(5):\n",
    "    for policy2 in range(5):\n",
    "        r = test_policy(env_444, policy[policy1], policy[policy2])\n",
    "        res[policy1, policy2] = str(r)"
   ]
  },
  {
   "cell_type": "code",
   "execution_count": 129,
   "metadata": {},
   "outputs": [
    {
     "data": {
      "text/html": [
       "<div>\n",
       "<style scoped>\n",
       "    .dataframe tbody tr th:only-of-type {\n",
       "        vertical-align: middle;\n",
       "    }\n",
       "\n",
       "    .dataframe tbody tr th {\n",
       "        vertical-align: top;\n",
       "    }\n",
       "\n",
       "    .dataframe thead th {\n",
       "        text-align: right;\n",
       "    }\n",
       "</style>\n",
       "<table border=\"1\" class=\"dataframe\">\n",
       "  <thead>\n",
       "    <tr style=\"text-align: right;\">\n",
       "      <th></th>\n",
       "      <th>random</th>\n",
       "      <th>Q</th>\n",
       "      <th>DQN</th>\n",
       "      <th>Double</th>\n",
       "      <th>MCTS</th>\n",
       "    </tr>\n",
       "  </thead>\n",
       "  <tbody>\n",
       "    <tr>\n",
       "      <th>random</th>\n",
       "      <td>(0.3, 0.285)</td>\n",
       "      <td>(0.252, 0.366)</td>\n",
       "      <td>(0.074, 0.736)</td>\n",
       "      <td>(0.153, 0.676)</td>\n",
       "      <td>(0.005, 0.775)</td>\n",
       "    </tr>\n",
       "    <tr>\n",
       "      <th>Q</th>\n",
       "      <td>(0.509, 0.168)</td>\n",
       "      <td>(0.0, 0.0)</td>\n",
       "      <td>(0.0, 1.0)</td>\n",
       "      <td>(1.0, 0.0)</td>\n",
       "      <td>(0.0, 0.887)</td>\n",
       "    </tr>\n",
       "    <tr>\n",
       "      <th>DQN</th>\n",
       "      <td>(0.866, 0.038)</td>\n",
       "      <td>(1.0, 0.0)</td>\n",
       "      <td>(1.0, 0.0)</td>\n",
       "      <td>(1.0, 0.0)</td>\n",
       "      <td>(0.013, 0.154)</td>\n",
       "    </tr>\n",
       "    <tr>\n",
       "      <th>Double</th>\n",
       "      <td>(0.83, 0.067)</td>\n",
       "      <td>(1.0, 0.0)</td>\n",
       "      <td>(1.0, 0.0)</td>\n",
       "      <td>(0.0, 1.0)</td>\n",
       "      <td>(0.823, 0.177)</td>\n",
       "    </tr>\n",
       "    <tr>\n",
       "      <th>MCTS</th>\n",
       "      <td>(0.904, 0.03)</td>\n",
       "      <td>(0.625, 0.172)</td>\n",
       "      <td>(0.728, 0.256)</td>\n",
       "      <td>(0.922, 0.076)</td>\n",
       "      <td>(0.073, 0.756)</td>\n",
       "    </tr>\n",
       "  </tbody>\n",
       "</table>\n",
       "</div>"
      ],
      "text/plain": [
       "                random               Q             DQN          Double  \\\n",
       "random    (0.3, 0.285)  (0.252, 0.366)  (0.074, 0.736)  (0.153, 0.676)   \n",
       "Q       (0.509, 0.168)      (0.0, 0.0)      (0.0, 1.0)      (1.0, 0.0)   \n",
       "DQN     (0.866, 0.038)      (1.0, 0.0)      (1.0, 0.0)      (1.0, 0.0)   \n",
       "Double   (0.83, 0.067)      (1.0, 0.0)      (1.0, 0.0)      (0.0, 1.0)   \n",
       "MCTS     (0.904, 0.03)  (0.625, 0.172)  (0.728, 0.256)  (0.922, 0.076)   \n",
       "\n",
       "                  MCTS  \n",
       "random  (0.005, 0.775)  \n",
       "Q         (0.0, 0.887)  \n",
       "DQN     (0.013, 0.154)  \n",
       "Double  (0.823, 0.177)  \n",
       "MCTS    (0.073, 0.756)  "
      ]
     },
     "execution_count": 129,
     "metadata": {},
     "output_type": "execute_result"
    }
   ],
   "source": [
    "pd.DataFrame(res, columns=['random', 'Q', 'DQN', 'Double', 'MCTS'], index=['random', 'Q', 'DQN', 'Double', 'MCTS'])"
   ]
  },
  {
   "cell_type": "markdown",
   "metadata": {},
   "source": [
    "#### Сравнение агентов 5x5"
   ]
  },
  {
   "cell_type": "code",
   "execution_count": 130,
   "metadata": {},
   "outputs": [],
   "source": [
    "policy = [random_agent, DQN_agent_555, double_agent_555, MCTS_agent_555]"
   ]
  },
  {
   "cell_type": "code",
   "execution_count": 131,
   "metadata": {},
   "outputs": [],
   "source": [
    "res = np.full((4, 4), '                        ')\n",
    "for policy1 in range(4):\n",
    "    for policy2 in range(4):\n",
    "        r = test_policy(env_555, policy[policy1], policy[policy2])\n",
    "        res[policy1, policy2] = str(r)"
   ]
  },
  {
   "cell_type": "code",
   "execution_count": 132,
   "metadata": {},
   "outputs": [
    {
     "data": {
      "text/html": [
       "<div>\n",
       "<style scoped>\n",
       "    .dataframe tbody tr th:only-of-type {\n",
       "        vertical-align: middle;\n",
       "    }\n",
       "\n",
       "    .dataframe tbody tr th {\n",
       "        vertical-align: top;\n",
       "    }\n",
       "\n",
       "    .dataframe thead th {\n",
       "        text-align: right;\n",
       "    }\n",
       "</style>\n",
       "<table border=\"1\" class=\"dataframe\">\n",
       "  <thead>\n",
       "    <tr style=\"text-align: right;\">\n",
       "      <th></th>\n",
       "      <th>random</th>\n",
       "      <th>DQN</th>\n",
       "      <th>Double</th>\n",
       "      <th>MCTS</th>\n",
       "    </tr>\n",
       "  </thead>\n",
       "  <tbody>\n",
       "    <tr>\n",
       "      <th>random</th>\n",
       "      <td>(0.242, 0.153)</td>\n",
       "      <td>(0.053, 0.573)</td>\n",
       "      <td>(0.058, 0.678)</td>\n",
       "      <td>(0.044, 0.859)</td>\n",
       "    </tr>\n",
       "    <tr>\n",
       "      <th>DQN</th>\n",
       "      <td>(0.681, 0.035)</td>\n",
       "      <td>(0.0, 1.0)</td>\n",
       "      <td>(1.0, 0.0)</td>\n",
       "      <td>(0.0, 0.95)</td>\n",
       "    </tr>\n",
       "    <tr>\n",
       "      <th>Double</th>\n",
       "      <td>(0.833, 0.02)</td>\n",
       "      <td>(1.0, 0.0)</td>\n",
       "      <td>(1.0, 0.0)</td>\n",
       "      <td>(0.0, 1.0)</td>\n",
       "    </tr>\n",
       "    <tr>\n",
       "      <th>MCTS</th>\n",
       "      <td>(0.898, 0.001)</td>\n",
       "      <td>(0.0, 0.0)</td>\n",
       "      <td>(0.889, 0.0)</td>\n",
       "      <td>(1.0, 0.0)</td>\n",
       "    </tr>\n",
       "  </tbody>\n",
       "</table>\n",
       "</div>"
      ],
      "text/plain": [
       "                random             DQN          Double            MCTS\n",
       "random  (0.242, 0.153)  (0.053, 0.573)  (0.058, 0.678)  (0.044, 0.859)\n",
       "DQN     (0.681, 0.035)      (0.0, 1.0)      (1.0, 0.0)     (0.0, 0.95)\n",
       "Double   (0.833, 0.02)      (1.0, 0.0)      (1.0, 0.0)      (0.0, 1.0)\n",
       "MCTS    (0.898, 0.001)      (0.0, 0.0)    (0.889, 0.0)      (1.0, 0.0)"
      ]
     },
     "execution_count": 132,
     "metadata": {},
     "output_type": "execute_result"
    }
   ],
   "source": [
    "pd.DataFrame(res, columns=['random', 'DQN', 'Double', 'MCTS'], index=['random', 'DQN', 'Double', 'MCTS'])"
   ]
  },
  {
   "cell_type": "code",
   "execution_count": null,
   "metadata": {},
   "outputs": [],
   "source": []
  }
 ],
 "metadata": {
  "kernelspec": {
   "display_name": "Python 3",
   "language": "python",
   "name": "python3"
  },
  "language_info": {
   "codemirror_mode": {
    "name": "ipython",
    "version": 3
   },
   "file_extension": ".py",
   "mimetype": "text/x-python",
   "name": "python",
   "nbconvert_exporter": "python",
   "pygments_lexer": "ipython3",
   "version": "3.7.4"
  }
 },
 "nbformat": 4,
 "nbformat_minor": 4
}
